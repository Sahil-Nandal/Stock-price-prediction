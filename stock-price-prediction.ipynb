{
 "cells": [
  {
   "cell_type": "code",
   "execution_count": 1,
   "id": "180c6a3a",
   "metadata": {
    "_cell_guid": "b1076dfc-b9ad-4769-8c92-a6c4dae69d19",
    "_uuid": "8f2839f25d086af736a60e9eeb907d3b93b6e0e5",
    "execution": {
     "iopub.execute_input": "2023-05-25T16:09:46.768813Z",
     "iopub.status.busy": "2023-05-25T16:09:46.768430Z",
     "iopub.status.idle": "2023-05-25T16:09:46.790002Z",
     "shell.execute_reply": "2023-05-25T16:09:46.788507Z"
    },
    "papermill": {
     "duration": 0.034254,
     "end_time": "2023-05-25T16:09:46.792392",
     "exception": false,
     "start_time": "2023-05-25T16:09:46.758138",
     "status": "completed"
    },
    "tags": []
   },
   "outputs": [
    {
     "name": "stdout",
     "output_type": "stream",
     "text": [
      "/kaggle/input/bitcoin-price-dataset/BTC_ALL_graph_coinmarketcap.csv\n"
     ]
    }
   ],
   "source": [
    "# This Python 3 environment comes with many helpful analytics libraries installed\n",
    "# It is defined by the kaggle/python Docker image: https://github.com/kaggle/docker-python\n",
    "# For example, here's several helpful packages to load\n",
    "\n",
    "import numpy as np # linear algebra\n",
    "import pandas as pd # data processing, CSV file I/O (e.g. pd.read_csv)\n",
    "\n",
    "# Input data files are available in the read-only \"../input/\" directory\n",
    "# For example, running this (by clicking run or pressing Shift+Enter) will list all files under the input directory\n",
    "\n",
    "import os\n",
    "for dirname, _, filenames in os.walk('/kaggle/input'):\n",
    "    for filename in filenames:\n",
    "        print(os.path.join(dirname, filename))\n",
    "\n",
    "# You can write up to 20GB to the current directory (/kaggle/working/) that gets preserved as output when you create a version using \"Save & Run All\" \n",
    "# You can also write temporary files to /kaggle/temp/, but they won't be saved outside of the current session"
   ]
  },
  {
   "cell_type": "code",
   "execution_count": 2,
   "id": "1e210021",
   "metadata": {
    "execution": {
     "iopub.execute_input": "2023-05-25T16:09:46.811056Z",
     "iopub.status.busy": "2023-05-25T16:09:46.810304Z",
     "iopub.status.idle": "2023-05-25T16:09:48.487378Z",
     "shell.execute_reply": "2023-05-25T16:09:48.485976Z"
    },
    "papermill": {
     "duration": 1.689344,
     "end_time": "2023-05-25T16:09:48.490175",
     "exception": false,
     "start_time": "2023-05-25T16:09:46.800831",
     "status": "completed"
    },
    "tags": []
   },
   "outputs": [],
   "source": [
    "import pandas as pd\n",
    "import matplotlib.pyplot as plt\n",
    "from sklearn.model_selection import train_test_split\n",
    "from sklearn.linear_model import LinearRegression\n",
    "from sklearn.metrics import mean_squared_error, r2_score"
   ]
  },
  {
   "cell_type": "code",
   "execution_count": 3,
   "id": "9d8ae46e",
   "metadata": {
    "execution": {
     "iopub.execute_input": "2023-05-25T16:09:48.508713Z",
     "iopub.status.busy": "2023-05-25T16:09:48.508305Z",
     "iopub.status.idle": "2023-05-25T16:09:48.536196Z",
     "shell.execute_reply": "2023-05-25T16:09:48.535087Z"
    },
    "papermill": {
     "duration": 0.040498,
     "end_time": "2023-05-25T16:09:48.538927",
     "exception": false,
     "start_time": "2023-05-25T16:09:48.498429",
     "status": "completed"
    },
    "tags": []
   },
   "outputs": [],
   "source": [
    "data = pd.read_csv('/kaggle/input/bitcoin-price-dataset/BTC_ALL_graph_coinmarketcap.csv', delimiter=';')"
   ]
  },
  {
   "cell_type": "code",
   "execution_count": 4,
   "id": "97272caf",
   "metadata": {
    "execution": {
     "iopub.execute_input": "2023-05-25T16:09:48.557899Z",
     "iopub.status.busy": "2023-05-25T16:09:48.557169Z",
     "iopub.status.idle": "2023-05-25T16:09:48.563174Z",
     "shell.execute_reply": "2023-05-25T16:09:48.562056Z"
    },
    "papermill": {
     "duration": 0.018109,
     "end_time": "2023-05-25T16:09:48.565371",
     "exception": false,
     "start_time": "2023-05-25T16:09:48.547262",
     "status": "completed"
    },
    "tags": []
   },
   "outputs": [
    {
     "name": "stdout",
     "output_type": "stream",
     "text": [
      "Index(['open', 'high', 'low', 'close', 'volume', 'marketCap', 'timestamp'], dtype='object')\n"
     ]
    }
   ],
   "source": [
    "print(data.columns)"
   ]
  },
  {
   "cell_type": "code",
   "execution_count": 5,
   "id": "b7da413c",
   "metadata": {
    "execution": {
     "iopub.execute_input": "2023-05-25T16:09:48.585195Z",
     "iopub.status.busy": "2023-05-25T16:09:48.584772Z",
     "iopub.status.idle": "2023-05-25T16:09:48.603369Z",
     "shell.execute_reply": "2023-05-25T16:09:48.602226Z"
    },
    "papermill": {
     "duration": 0.030408,
     "end_time": "2023-05-25T16:09:48.605642",
     "exception": false,
     "start_time": "2023-05-25T16:09:48.575234",
     "status": "completed"
    },
    "tags": []
   },
   "outputs": [],
   "source": [
    "X = data[['open', 'high', 'low', 'volume', 'marketCap']]\n",
    "y = data['close']"
   ]
  },
  {
   "cell_type": "code",
   "execution_count": 6,
   "id": "84b4560b",
   "metadata": {
    "execution": {
     "iopub.execute_input": "2023-05-25T16:09:48.624619Z",
     "iopub.status.busy": "2023-05-25T16:09:48.623810Z",
     "iopub.status.idle": "2023-05-25T16:09:48.632146Z",
     "shell.execute_reply": "2023-05-25T16:09:48.631030Z"
    },
    "papermill": {
     "duration": 0.020926,
     "end_time": "2023-05-25T16:09:48.634956",
     "exception": false,
     "start_time": "2023-05-25T16:09:48.614030",
     "status": "completed"
    },
    "tags": []
   },
   "outputs": [],
   "source": [
    "X_train, X_test, y_train, y_test = train_test_split(X, y, test_size=0.2, random_state=42)"
   ]
  },
  {
   "cell_type": "code",
   "execution_count": 7,
   "id": "2417fbe3",
   "metadata": {
    "execution": {
     "iopub.execute_input": "2023-05-25T16:09:48.653648Z",
     "iopub.status.busy": "2023-05-25T16:09:48.653280Z",
     "iopub.status.idle": "2023-05-25T16:09:48.658218Z",
     "shell.execute_reply": "2023-05-25T16:09:48.656984Z"
    },
    "papermill": {
     "duration": 0.016871,
     "end_time": "2023-05-25T16:09:48.660476",
     "exception": false,
     "start_time": "2023-05-25T16:09:48.643605",
     "status": "completed"
    },
    "tags": []
   },
   "outputs": [],
   "source": [
    "model = LinearRegression()"
   ]
  },
  {
   "cell_type": "code",
   "execution_count": 8,
   "id": "ec51d777",
   "metadata": {
    "execution": {
     "iopub.execute_input": "2023-05-25T16:09:48.678781Z",
     "iopub.status.busy": "2023-05-25T16:09:48.678401Z",
     "iopub.status.idle": "2023-05-25T16:09:48.714961Z",
     "shell.execute_reply": "2023-05-25T16:09:48.714053Z"
    },
    "papermill": {
     "duration": 0.048394,
     "end_time": "2023-05-25T16:09:48.717294",
     "exception": false,
     "start_time": "2023-05-25T16:09:48.668900",
     "status": "completed"
    },
    "tags": []
   },
   "outputs": [
    {
     "data": {
      "text/html": [
       "<style>#sk-container-id-1 {color: black;background-color: white;}#sk-container-id-1 pre{padding: 0;}#sk-container-id-1 div.sk-toggleable {background-color: white;}#sk-container-id-1 label.sk-toggleable__label {cursor: pointer;display: block;width: 100%;margin-bottom: 0;padding: 0.3em;box-sizing: border-box;text-align: center;}#sk-container-id-1 label.sk-toggleable__label-arrow:before {content: \"▸\";float: left;margin-right: 0.25em;color: #696969;}#sk-container-id-1 label.sk-toggleable__label-arrow:hover:before {color: black;}#sk-container-id-1 div.sk-estimator:hover label.sk-toggleable__label-arrow:before {color: black;}#sk-container-id-1 div.sk-toggleable__content {max-height: 0;max-width: 0;overflow: hidden;text-align: left;background-color: #f0f8ff;}#sk-container-id-1 div.sk-toggleable__content pre {margin: 0.2em;color: black;border-radius: 0.25em;background-color: #f0f8ff;}#sk-container-id-1 input.sk-toggleable__control:checked~div.sk-toggleable__content {max-height: 200px;max-width: 100%;overflow: auto;}#sk-container-id-1 input.sk-toggleable__control:checked~label.sk-toggleable__label-arrow:before {content: \"▾\";}#sk-container-id-1 div.sk-estimator input.sk-toggleable__control:checked~label.sk-toggleable__label {background-color: #d4ebff;}#sk-container-id-1 div.sk-label input.sk-toggleable__control:checked~label.sk-toggleable__label {background-color: #d4ebff;}#sk-container-id-1 input.sk-hidden--visually {border: 0;clip: rect(1px 1px 1px 1px);clip: rect(1px, 1px, 1px, 1px);height: 1px;margin: -1px;overflow: hidden;padding: 0;position: absolute;width: 1px;}#sk-container-id-1 div.sk-estimator {font-family: monospace;background-color: #f0f8ff;border: 1px dotted black;border-radius: 0.25em;box-sizing: border-box;margin-bottom: 0.5em;}#sk-container-id-1 div.sk-estimator:hover {background-color: #d4ebff;}#sk-container-id-1 div.sk-parallel-item::after {content: \"\";width: 100%;border-bottom: 1px solid gray;flex-grow: 1;}#sk-container-id-1 div.sk-label:hover label.sk-toggleable__label {background-color: #d4ebff;}#sk-container-id-1 div.sk-serial::before {content: \"\";position: absolute;border-left: 1px solid gray;box-sizing: border-box;top: 0;bottom: 0;left: 50%;z-index: 0;}#sk-container-id-1 div.sk-serial {display: flex;flex-direction: column;align-items: center;background-color: white;padding-right: 0.2em;padding-left: 0.2em;position: relative;}#sk-container-id-1 div.sk-item {position: relative;z-index: 1;}#sk-container-id-1 div.sk-parallel {display: flex;align-items: stretch;justify-content: center;background-color: white;position: relative;}#sk-container-id-1 div.sk-item::before, #sk-container-id-1 div.sk-parallel-item::before {content: \"\";position: absolute;border-left: 1px solid gray;box-sizing: border-box;top: 0;bottom: 0;left: 50%;z-index: -1;}#sk-container-id-1 div.sk-parallel-item {display: flex;flex-direction: column;z-index: 1;position: relative;background-color: white;}#sk-container-id-1 div.sk-parallel-item:first-child::after {align-self: flex-end;width: 50%;}#sk-container-id-1 div.sk-parallel-item:last-child::after {align-self: flex-start;width: 50%;}#sk-container-id-1 div.sk-parallel-item:only-child::after {width: 0;}#sk-container-id-1 div.sk-dashed-wrapped {border: 1px dashed gray;margin: 0 0.4em 0.5em 0.4em;box-sizing: border-box;padding-bottom: 0.4em;background-color: white;}#sk-container-id-1 div.sk-label label {font-family: monospace;font-weight: bold;display: inline-block;line-height: 1.2em;}#sk-container-id-1 div.sk-label-container {text-align: center;}#sk-container-id-1 div.sk-container {/* jupyter's `normalize.less` sets `[hidden] { display: none; }` but bootstrap.min.css set `[hidden] { display: none !important; }` so we also need the `!important` here to be able to override the default hidden behavior on the sphinx rendered scikit-learn.org. See: https://github.com/scikit-learn/scikit-learn/issues/21755 */display: inline-block !important;position: relative;}#sk-container-id-1 div.sk-text-repr-fallback {display: none;}</style><div id=\"sk-container-id-1\" class=\"sk-top-container\"><div class=\"sk-text-repr-fallback\"><pre>LinearRegression()</pre><b>In a Jupyter environment, please rerun this cell to show the HTML representation or trust the notebook. <br />On GitHub, the HTML representation is unable to render, please try loading this page with nbviewer.org.</b></div><div class=\"sk-container\" hidden><div class=\"sk-item\"><div class=\"sk-estimator sk-toggleable\"><input class=\"sk-toggleable__control sk-hidden--visually\" id=\"sk-estimator-id-1\" type=\"checkbox\" checked><label for=\"sk-estimator-id-1\" class=\"sk-toggleable__label sk-toggleable__label-arrow\">LinearRegression</label><div class=\"sk-toggleable__content\"><pre>LinearRegression()</pre></div></div></div></div></div>"
      ],
      "text/plain": [
       "LinearRegression()"
      ]
     },
     "execution_count": 8,
     "metadata": {},
     "output_type": "execute_result"
    }
   ],
   "source": [
    "model.fit(X_train, y_train)"
   ]
  },
  {
   "cell_type": "code",
   "execution_count": 9,
   "id": "fc5a6ec9",
   "metadata": {
    "execution": {
     "iopub.execute_input": "2023-05-25T16:09:48.736568Z",
     "iopub.status.busy": "2023-05-25T16:09:48.735835Z",
     "iopub.status.idle": "2023-05-25T16:09:48.741949Z",
     "shell.execute_reply": "2023-05-25T16:09:48.741108Z"
    },
    "papermill": {
     "duration": 0.018215,
     "end_time": "2023-05-25T16:09:48.744055",
     "exception": false,
     "start_time": "2023-05-25T16:09:48.725840",
     "status": "completed"
    },
    "tags": []
   },
   "outputs": [],
   "source": [
    "y_pred = model.predict(X_test)\n"
   ]
  },
  {
   "cell_type": "code",
   "execution_count": 10,
   "id": "8d53627e",
   "metadata": {
    "execution": {
     "iopub.execute_input": "2023-05-25T16:09:48.763530Z",
     "iopub.status.busy": "2023-05-25T16:09:48.762704Z",
     "iopub.status.idle": "2023-05-25T16:09:48.769033Z",
     "shell.execute_reply": "2023-05-25T16:09:48.767970Z"
    },
    "papermill": {
     "duration": 0.018629,
     "end_time": "2023-05-25T16:09:48.771224",
     "exception": false,
     "start_time": "2023-05-25T16:09:48.752595",
     "status": "completed"
    },
    "tags": []
   },
   "outputs": [
    {
     "name": "stdout",
     "output_type": "stream",
     "text": [
      "Mean Squared Error: 40061.26163985876\n"
     ]
    }
   ],
   "source": [
    "mse = mean_squared_error(y_test, y_pred)\n",
    "print('Mean Squared Error:', mse)"
   ]
  },
  {
   "cell_type": "code",
   "execution_count": 11,
   "id": "2eefab34",
   "metadata": {
    "execution": {
     "iopub.execute_input": "2023-05-25T16:09:48.791177Z",
     "iopub.status.busy": "2023-05-25T16:09:48.790260Z",
     "iopub.status.idle": "2023-05-25T16:09:48.797463Z",
     "shell.execute_reply": "2023-05-25T16:09:48.796450Z"
    },
    "papermill": {
     "duration": 0.019721,
     "end_time": "2023-05-25T16:09:48.800012",
     "exception": false,
     "start_time": "2023-05-25T16:09:48.780291",
     "status": "completed"
    },
    "tags": []
   },
   "outputs": [],
   "source": [
    "new_data = pd.DataFrame({'open': 29245.5155124623, 'high': 29952.0285526597, 'low': 29114.0212362778, 'volume': 14652199272.27,\n",
    "                         'marketCap': 566661285145.37}, index=[0])"
   ]
  },
  {
   "cell_type": "code",
   "execution_count": 12,
   "id": "e2d57602",
   "metadata": {
    "execution": {
     "iopub.execute_input": "2023-05-25T16:09:48.819054Z",
     "iopub.status.busy": "2023-05-25T16:09:48.818622Z",
     "iopub.status.idle": "2023-05-25T16:09:48.826811Z",
     "shell.execute_reply": "2023-05-25T16:09:48.825642Z"
    },
    "papermill": {
     "duration": 0.020891,
     "end_time": "2023-05-25T16:09:48.829506",
     "exception": false,
     "start_time": "2023-05-25T16:09:48.808615",
     "status": "completed"
    },
    "tags": []
   },
   "outputs": [
    {
     "name": "stdout",
     "output_type": "stream",
     "text": [
      "Predicted Price: [29822.1418296]\n"
     ]
    }
   ],
   "source": [
    "predicted_price = model.predict(new_data)\n",
    "print('Predicted Price:', predicted_price)"
   ]
  },
  {
   "cell_type": "code",
   "execution_count": 13,
   "id": "380043c1",
   "metadata": {
    "execution": {
     "iopub.execute_input": "2023-05-25T16:09:48.849256Z",
     "iopub.status.busy": "2023-05-25T16:09:48.848806Z",
     "iopub.status.idle": "2023-05-25T16:09:48.856448Z",
     "shell.execute_reply": "2023-05-25T16:09:48.855219Z"
    },
    "papermill": {
     "duration": 0.020547,
     "end_time": "2023-05-25T16:09:48.859082",
     "exception": false,
     "start_time": "2023-05-25T16:09:48.838535",
     "status": "completed"
    },
    "tags": []
   },
   "outputs": [
    {
     "name": "stdout",
     "output_type": "stream",
     "text": [
      "R-squared: 0.9998129536932032\n"
     ]
    }
   ],
   "source": [
    "r2 = r2_score(y_test, y_pred)\n",
    "print('R-squared:', r2)"
   ]
  },
  {
   "cell_type": "code",
   "execution_count": 14,
   "id": "3faa76ba",
   "metadata": {
    "execution": {
     "iopub.execute_input": "2023-05-25T16:09:48.878799Z",
     "iopub.status.busy": "2023-05-25T16:09:48.878419Z",
     "iopub.status.idle": "2023-05-25T16:09:48.885936Z",
     "shell.execute_reply": "2023-05-25T16:09:48.884623Z"
    },
    "papermill": {
     "duration": 0.020675,
     "end_time": "2023-05-25T16:09:48.888706",
     "exception": false,
     "start_time": "2023-05-25T16:09:48.868031",
     "status": "completed"
    },
    "tags": []
   },
   "outputs": [
    {
     "name": "stdout",
     "output_type": "stream",
     "text": [
      "Percentage within threshold: 98.63945578231292\n"
     ]
    }
   ],
   "source": [
    "threshold = 800  # Define the threshold value\n",
    "diff = abs(y_pred - y_test)\n",
    "within_threshold = diff[diff <= threshold]\n",
    "percentage_within_threshold = (within_threshold.shape[0] / y_test.shape[0]) * 100\n",
    "print('Percentage within threshold:', percentage_within_threshold)"
   ]
  },
  {
   "cell_type": "code",
   "execution_count": 15,
   "id": "6fb4f9cc",
   "metadata": {
    "execution": {
     "iopub.execute_input": "2023-05-25T16:09:48.908451Z",
     "iopub.status.busy": "2023-05-25T16:09:48.908062Z",
     "iopub.status.idle": "2023-05-25T16:09:49.247399Z",
     "shell.execute_reply": "2023-05-25T16:09:49.246540Z"
    },
    "papermill": {
     "duration": 0.351759,
     "end_time": "2023-05-25T16:09:49.249515",
     "exception": false,
     "start_time": "2023-05-25T16:09:48.897756",
     "status": "completed"
    },
    "tags": []
   },
   "outputs": [
    {
     "data": {
      "image/png": "[encoded data removed]",
      "text/plain": [
       "<Figure size 640x480 with 1 Axes>"
      ]
     },
     "metadata": {},
     "output_type": "display_data"
    }
   ],
   "source": [
    "plt.scatter(y_test, y_pred)\n",
    "plt.xlabel('Expected Values')\n",
    "plt.ylabel('Predicted Values')\n",
    "plt.title('Predicted vs Expected Values')\n",
    "plt.show()"
   ]
  },
  {
   "cell_type": "markdown",
   "id": "fc127706",
   "metadata": {
    "papermill": {
     "duration": 0.009218,
     "end_time": "2023-05-25T16:09:49.268329",
     "exception": false,
     "start_time": "2023-05-25T16:09:49.259111",
     "status": "completed"
    },
    "tags": []
   },
   "source": [
    "**Random Forest Regressor:**"
   ]
  },
  {
   "cell_type": "code",
   "execution_count": 16,
   "id": "e4230fbf",
   "metadata": {
    "execution": {
     "iopub.execute_input": "2023-05-25T16:09:49.289084Z",
     "iopub.status.busy": "2023-05-25T16:09:49.288669Z",
     "iopub.status.idle": "2023-05-25T16:09:49.595946Z",
     "shell.execute_reply": "2023-05-25T16:09:49.594867Z"
    },
    "papermill": {
     "duration": 0.320691,
     "end_time": "2023-05-25T16:09:49.598601",
     "exception": false,
     "start_time": "2023-05-25T16:09:49.277910",
     "status": "completed"
    },
    "tags": []
   },
   "outputs": [],
   "source": [
    "from sklearn.ensemble import RandomForestRegressor"
   ]
  },
  {
   "cell_type": "code",
   "execution_count": 17,
   "id": "4d6a9b44",
   "metadata": {
    "execution": {
     "iopub.execute_input": "2023-05-25T16:09:49.620072Z",
     "iopub.status.busy": "2023-05-25T16:09:49.619210Z",
     "iopub.status.idle": "2023-05-25T16:09:50.005721Z",
     "shell.execute_reply": "2023-05-25T16:09:50.004467Z"
    },
    "papermill": {
     "duration": 0.400076,
     "end_time": "2023-05-25T16:09:50.008395",
     "exception": false,
     "start_time": "2023-05-25T16:09:49.608319",
     "status": "completed"
    },
    "tags": []
   },
   "outputs": [
    {
     "name": "stdout",
     "output_type": "stream",
     "text": [
      "Random Forest Mean Squared Error: 66456.47789342618\n"
     ]
    }
   ],
   "source": [
    "rf_model = RandomForestRegressor()\n",
    "rf_model.fit(X_train, y_train)\n",
    "rf_y_pred = rf_model.predict(X_test)\n",
    "rf_mse = mean_squared_error(y_test, rf_y_pred)\n",
    "print('Random Forest Mean Squared Error:', rf_mse)"
   ]
  },
  {
   "cell_type": "code",
   "execution_count": 18,
   "id": "d98ed147",
   "metadata": {
    "execution": {
     "iopub.execute_input": "2023-05-25T16:09:50.029965Z",
     "iopub.status.busy": "2023-05-25T16:09:50.029185Z",
     "iopub.status.idle": "2023-05-25T16:09:50.042086Z",
     "shell.execute_reply": "2023-05-25T16:09:50.040928Z"
    },
    "papermill": {
     "duration": 0.026359,
     "end_time": "2023-05-25T16:09:50.044557",
     "exception": false,
     "start_time": "2023-05-25T16:09:50.018198",
     "status": "completed"
    },
    "tags": []
   },
   "outputs": [
    {
     "name": "stdout",
     "output_type": "stream",
     "text": [
      "Linear Regression Mean Squared Error: 40061.26163985876\n"
     ]
    }
   ],
   "source": [
    "linear_model = LinearRegression()\n",
    "linear_model.fit(X_train, y_train)\n",
    "linear_y_pred = linear_model.predict(X_test)\n",
    "linear_mse = mean_squared_error(y_test, linear_y_pred)\n",
    "print('Linear Regression Mean Squared Error:', linear_mse)"
   ]
  },
  {
   "cell_type": "markdown",
   "id": "eea701d7",
   "metadata": {
    "papermill": {
     "duration": 0.009558,
     "end_time": "2023-05-25T16:09:50.063862",
     "exception": false,
     "start_time": "2023-05-25T16:09:50.054304",
     "status": "completed"
    },
    "tags": []
   },
   "source": [
    "**Using Neural Networks**"
   ]
  },
  {
   "cell_type": "code",
   "execution_count": 19,
   "id": "4440c20a",
   "metadata": {
    "execution": {
     "iopub.execute_input": "2023-05-25T16:09:50.085790Z",
     "iopub.status.busy": "2023-05-25T16:09:50.085374Z",
     "iopub.status.idle": "2023-05-25T16:10:00.343408Z",
     "shell.execute_reply": "2023-05-25T16:10:00.341949Z"
    },
    "papermill": {
     "duration": 10.272205,
     "end_time": "2023-05-25T16:10:00.346397",
     "exception": false,
     "start_time": "2023-05-25T16:09:50.074192",
     "status": "completed"
    },
    "tags": []
   },
   "outputs": [
    {
     "name": "stderr",
     "output_type": "stream",
     "text": [
      "/opt/conda/lib/python3.10/site-packages/tensorflow_io/python/ops/__init__.py:98: UserWarning: unable to load libtensorflow_io_plugins.so: unable to open file: libtensorflow_io_plugins.so, from paths: ['/opt/conda/lib/python3.10/site-packages/tensorflow_io/python/ops/libtensorflow_io_plugins.so']\n",
      "caused by: ['/opt/conda/lib/python3.10/site-packages/tensorflow_io/python/ops/libtensorflow_io_plugins.so: undefined symbol: _ZN3tsl6StatusC1EN10tensorflow5error4CodeESt17basic_string_viewIcSt11char_traitsIcEENS_14SourceLocationE']\n",
      "  warnings.warn(f\"unable to load libtensorflow_io_plugins.so: {e}\")\n",
      "/opt/conda/lib/python3.10/site-packages/tensorflow_io/python/ops/__init__.py:104: UserWarning: file system plugins are not loaded: unable to open file: libtensorflow_io.so, from paths: ['/opt/conda/lib/python3.10/site-packages/tensorflow_io/python/ops/libtensorflow_io.so']\n",
      "caused by: ['/opt/conda/lib/python3.10/site-packages/tensorflow_io/python/ops/libtensorflow_io.so: undefined symbol: _ZTVN10tensorflow13GcsFileSystemE']\n",
      "  warnings.warn(f\"file system plugins are not loaded: {e}\")\n"
     ]
    }
   ],
   "source": [
    "from sklearn.preprocessing import StandardScaler\n",
    "from tensorflow import keras\n",
    "from tensorflow.keras import layers\n"
   ]
  },
  {
   "cell_type": "code",
   "execution_count": 20,
   "id": "98230407",
   "metadata": {
    "execution": {
     "iopub.execute_input": "2023-05-25T16:10:00.368719Z",
     "iopub.status.busy": "2023-05-25T16:10:00.367919Z",
     "iopub.status.idle": "2023-05-25T16:10:00.380058Z",
     "shell.execute_reply": "2023-05-25T16:10:00.378808Z"
    },
    "papermill": {
     "duration": 0.026318,
     "end_time": "2023-05-25T16:10:00.382802",
     "exception": false,
     "start_time": "2023-05-25T16:10:00.356484",
     "status": "completed"
    },
    "tags": []
   },
   "outputs": [],
   "source": [
    "scaler = StandardScaler()\n",
    "X_train = scaler.fit_transform(X_train)\n",
    "X_test = scaler.transform(X_test)"
   ]
  },
  {
   "cell_type": "code",
   "execution_count": 21,
   "id": "2eae03f1",
   "metadata": {
    "execution": {
     "iopub.execute_input": "2023-05-25T16:10:00.405082Z",
     "iopub.status.busy": "2023-05-25T16:10:00.404662Z",
     "iopub.status.idle": "2023-05-25T16:10:00.628936Z",
     "shell.execute_reply": "2023-05-25T16:10:00.627638Z"
    },
    "papermill": {
     "duration": 0.238554,
     "end_time": "2023-05-25T16:10:00.631807",
     "exception": false,
     "start_time": "2023-05-25T16:10:00.393253",
     "status": "completed"
    },
    "tags": []
   },
   "outputs": [],
   "source": [
    "model = keras.Sequential([\n",
    "    layers.Dense(64, activation='relu', input_shape=(X_train.shape[1],)),\n",
    "    layers.Dense(64, activation='relu'),\n",
    "    layers.Dense(1)\n",
    "])"
   ]
  },
  {
   "cell_type": "code",
   "execution_count": 22,
   "id": "d27ded45",
   "metadata": {
    "execution": {
     "iopub.execute_input": "2023-05-25T16:10:00.653783Z",
     "iopub.status.busy": "2023-05-25T16:10:00.653137Z",
     "iopub.status.idle": "2023-05-25T16:10:00.673046Z",
     "shell.execute_reply": "2023-05-25T16:10:00.672101Z"
    },
    "papermill": {
     "duration": 0.033996,
     "end_time": "2023-05-25T16:10:00.675667",
     "exception": false,
     "start_time": "2023-05-25T16:10:00.641671",
     "status": "completed"
    },
    "tags": []
   },
   "outputs": [],
   "source": [
    "model.compile(optimizer='adam', loss='mean_squared_error')"
   ]
  },
  {
   "cell_type": "code",
   "execution_count": 23,
   "id": "f03068f0",
   "metadata": {
    "execution": {
     "iopub.execute_input": "2023-05-25T16:10:00.699529Z",
     "iopub.status.busy": "2023-05-25T16:10:00.698871Z",
     "iopub.status.idle": "2023-05-25T16:10:14.856315Z",
     "shell.execute_reply": "2023-05-25T16:10:14.855134Z"
    },
    "papermill": {
     "duration": 14.172569,
     "end_time": "2023-05-25T16:10:14.859177",
     "exception": false,
     "start_time": "2023-05-25T16:10:00.686608",
     "status": "completed"
    },
    "tags": []
   },
   "outputs": [],
   "source": [
    "history = model.fit(X_train, y_train, epochs=100, batch_size=10, validation_data=(X_test, y_test), verbose=0)"
   ]
  }
 ],
 "metadata": {
  "kernelspec": {
   "display_name": "Python 3",
   "language": "python",
   "name": "python3"
  },
  "language_info": {
   "codemirror_mode": {
    "name": "ipython",
    "version": 3
   },
   "file_extension": ".py",
   "mimetype": "text/x-python",
   "name": "python",
   "nbconvert_exporter": "python",
   "pygments_lexer": "ipython3",
   "version": "3.10.10"
  },
  "papermill": {
   "default_parameters": {},
   "duration": 43.729949,
   "end_time": "2023-05-25T16:10:18.040415",
   "environment_variables": {},
   "exception": null,
   "input_path": "__notebook__.ipynb",
   "output_path": "__notebook__.ipynb",
   "parameters": {},
   "start_time": "2023-05-25T16:09:34.310466",
   "version": "2.4.0"
  }
 },
 "nbformat": 4,
 "nbformat_minor": 5
}
